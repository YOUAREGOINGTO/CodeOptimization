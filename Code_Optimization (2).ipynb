{
 "cells": [
  {
   "cell_type": "code",
   "execution_count": 1,
   "id": "425b34c4-3f34-470e-8636-e635ffae7cc5",
   "metadata": {},
   "outputs": [],
   "source": [
    "import sgp4\n",
    "from sgp4.api import Satrec, jday\n",
    "import numpy as np\n",
    "import datetime as dt\n",
    "import time\n",
    "import pyproj\n",
    "import dask\n",
    "from dask import bag as db\n",
    "from dask.distributed import Client,LocalCluster"
   ]
  },
  {
   "cell_type": "code",
   "execution_count": null,
   "id": "238246bd-cb0e-4997-9062-1780804033a9",
   "metadata": {},
   "outputs": [],
   "source": [
    "!pip install sgp4 --quiet\n",
    "!pip install pyproj --quiet"
   ]
  },
  {
   "cell_type": "markdown",
   "id": "83dfa65e-f583-4ee0-bdb5-40b1415b10f3",
   "metadata": {
    "tags": []
   },
   "source": [
    "1. Text file has Tle lines we have to obtain the co-ordinates for one day with time frame of one minute.(get_satellite_positions)\n",
    "2. Convert the co-ordinates to longitude, latitude and laltitude.(ecef2lla,convert_to_lla_single)\n",
    "3. Compare within a given range of latitude and longitude.(filter_positions)\n",
    "4. Code Optimization with Distributed Computing.(Using Dask Library)\n"
   ]
  },
  {
   "cell_type": "code",
   "execution_count": 2,
   "id": "fc491d24-7745-4e20-b7da-e08af4d65a90",
   "metadata": {},
   "outputs": [
    {
     "name": "stdout",
     "output_type": "stream",
     "text": [
      "CPU times: total: 10.5 s\n",
      "Wall time: 23.4 s\n"
     ]
    }
   ],
   "source": [
    "%%time\n",
    "\n",
    "def create_satellite_objects(tle_lines):\n",
    "    #sgp4 Library - Data Source Library.\n",
    "    satellites = []\n",
    "    for line in tle_lines:\n",
    "        satellite = Satrec.twoline2rv(line[1], line[2])\n",
    "        satellites.append([satellite,line[0]])\n",
    "    return satellites\n",
    "\n",
    "def get_satellite_positions(satellites, start_time, end_time, interval):\n",
    "    sat_positions = []\n",
    "    error_satpositions = []\n",
    "    delta = dt.timedelta(minutes=interval)\n",
    "    current_time = start_time\n",
    "\n",
    "    while current_time <= end_time:\n",
    "        jd, fr = jday(current_time.year, current_time.month, current_time.day,\n",
    "                      current_time.hour, current_time.minute, current_time.second)\n",
    "        for satellite in satellites:\n",
    "            e, r, v = satellite[0].sgp4(jd, fr)\n",
    "            if e == 0:\n",
    "                sat_positions.append([satellite[1],current_time, r, v])\n",
    "            elif not e==0 :\n",
    "                error_satpositions.append([satellite[1],current_time, r, v])\n",
    "                \n",
    "        current_time += delta\n",
    "    return sat_positions,error_satpositions\n",
    "\n",
    "# Load TLEs\n",
    "with open(r\"C:\\Users\\yaswa\\Downloads\\Assignment_Code Optimization\\Assignment_Code Optimization\\Assignment_Code Optimization\\30000sats.txt\", 'r') as file:\n",
    "    lines = file.readlines()\n",
    "tle_lines = [(lines[i], lines[i + 1],lines[i+2]) for i in range(0, len(lines), 3)]\n",
    "\n",
    "# Create satellite objects\n",
    "satellites = create_satellite_objects(tle_lines)\n",
    "\n",
    "# Get positions for one day\n",
    "start_time = dt.datetime(2024, 1, 1, 0, 0, 0)\n",
    "end_time = dt.datetime(2024, 1, 1, 23, 59, 59)\n",
    "positions = get_satellite_positions(satellites, start_time, end_time, 1)[0]\n"
   ]
  },
  {
   "cell_type": "code",
   "execution_count": null,
   "id": "7209f79d-266c-45cd-81a5-dafb98d37089",
   "metadata": {},
   "outputs": [],
   "source": [
    "#get_satellite_positions(satellites, start_time, end_time, 1)[1]"
   ]
  },
  {
   "cell_type": "code",
   "execution_count": 3,
   "id": "a131ba18-e0bb-4b37-889e-890d9f425af9",
   "metadata": {},
   "outputs": [],
   "source": [
    "transformer = pyproj.Transformer.from_proj(\n",
    "    pyproj.Proj(proj=\"geocent\", ellps=\"WGS84\", datum=\"WGS84\"),\n",
    "    pyproj.Proj(proj=\"latlong\", ellps=\"WGS84\", datum=\"WGS84\"),\n",
    "    always_xy=True\n",
    ")"
   ]
  },
  {
   "cell_type": "code",
   "execution_count": null,
   "id": "a5cd6bc1-6aff-4925-a193-3ceff71bf2d0",
   "metadata": {},
   "outputs": [],
   "source": [
    "%time\n",
    "def ecef2lla(pos_x, pos_y, pos_z,transformer):\n",
    "    #Pyproj Library - Computation Library.\n",
    "    lon, lat, alt = transformer.transform(pos_x, pos_y, pos_z, radians=False)\n",
    "    return lon, lat, alt\n",
    "\n",
    "def convert_to_lla_single(position,transformer):\n",
    "\n",
    "    name, timestamp, r, v = position\n",
    "    lon, lat, alt = ecef2lla(r[0], r[1], r[2],transformer)\n",
    "\n",
    "    return name, timestamp, lon, lat, alt\n",
    "\n",
    "def filter_positions(lla_positions, lat_min, lat_max, lon_min, lon_max):\n",
    "    filtered_positions = []\n",
    "    for time, lon, lat, alt in lla_positions:\n",
    "        if lat_min <= lat <= lat_max and lon_min <= lon <= lon_max:\n",
    "            filtered_positions.append((time, lon, lat, alt))\n",
    "    return filtered_positions\n",
    "\n"
   ]
  },
  {
   "cell_type": "code",
   "execution_count": 4,
   "id": "333a6399-b655-4d3e-9441-be852d4b1dbc",
   "metadata": {},
   "outputs": [],
   "source": [
    "a = len(positions)//3\n",
    "positions = positions[:a]"
   ]
  },
  {
   "cell_type": "code",
   "execution_count": 5,
   "id": "6c4b7600-80c1-45bc-85f8-8395d4b1f690",
   "metadata": {},
   "outputs": [
    {
     "data": {
      "text/plain": [
       "<Conversion Transformer: pipeline>\n",
       "Description: Conversion from unknown (geocentric) to unknown (geog2D)\n",
       "Area of Use:\n",
       "- undefined"
      ]
     },
     "execution_count": 5,
     "metadata": {},
     "output_type": "execute_result"
    }
   ],
   "source": [
    "transformer"
   ]
  },
  {
   "cell_type": "code",
   "execution_count": null,
   "id": "06aa83dd-b2c8-4d0e-a36f-91b563c2ca3e",
   "metadata": {},
   "outputs": [],
   "source": [
    "27360*0.018"
   ]
  },
  {
   "cell_type": "code",
   "execution_count": null,
   "id": "773b2e31-74c8-48a7-8285-459482b6ecba",
   "metadata": {},
   "outputs": [],
   "source": [
    "import pyproj\n",
    "from pyproj import Transformer\n",
    "\n",
    "import time\n",
    "start = time.time()\n",
    "def ecef2lla(pos_x, pos_y, pos_z,transformer):\n",
    "    #start = time.time()\n",
    "    \n",
    "    lon, lat, alt = transformer.transform(pos_x, pos_y, pos_z, radians=False)\n",
    "    #end = time.time()\n",
    "    #print(end -start)\n",
    "    return lon, lat, alt\n",
    "\n",
    "\n",
    "\n",
    "\n",
    "def convert_to_lla(positions,transformer):\n",
    "    \n",
    "    lla_positions = []\n",
    "    for name,time, r, v in positions:\n",
    "        lon, lat, alt = ecef2lla(r[0], r[1], r[2],transformer)\n",
    "        lla_positions.append([name,time, lon, lat, alt])\n",
    "\n",
    "    return lla_positions\n",
    "\n",
    "lla_positions = convert_to_lla(positions,transformer)\n",
    "def filter_positions(lla_positions, lat_min, lat_max, lon_min, lon_max):\n",
    "    filtered_positions = []\n",
    "    for name,time, lon, lat, alt in lla_positions:\n",
    "        if lat_min <= lat <= lat_max and lon_min <= lon <= lon_max:\n",
    "            filtered_positions.append((time, lon, lat, alt))\n",
    "    return filtered_positions\n",
    "\n",
    "lat_min, lat_max = -1000.09096, 1000.74973\n",
    "lon_min, lon_max = -1470.79778, 1030.58196\n",
    "filtered_positions = filter_positions(lla_positions, lat_min, lat_max, lon_min, lon_max)\n",
    "\n",
    "end =time.time()\n",
    "print(end-start)"
   ]
  },
  {
   "cell_type": "code",
   "execution_count": null,
   "id": "f102672f-7e04-4ab4-8e73-ba26f3868950",
   "metadata": {},
   "outputs": [],
   "source": [
    "len(filtered_positions)"
   ]
  },
  {
   "cell_type": "code",
   "execution_count": null,
   "id": "eb354b09-4c0f-46ac-ad17-fa4c277254cc",
   "metadata": {},
   "outputs": [],
   "source": [
    "lla_positions"
   ]
  },
  {
   "cell_type": "code",
   "execution_count": null,
   "id": "855aaa40-fc30-443d-856f-82c036e2c64c",
   "metadata": {},
   "outputs": [],
   "source": [
    "filtered_positions"
   ]
  },
  {
   "cell_type": "markdown",
   "id": "c5485e1d-c795-4c13-adc6-ea1d26f7eb1d",
   "metadata": {},
   "source": [
    "# Distributed Computing\n"
   ]
  },
  {
   "cell_type": "code",
   "execution_count": null,
   "id": "851d18d4-4abc-4b51-8c4e-541c04c03fcd",
   "metadata": {},
   "outputs": [],
   "source": [
    "!pip install dask-labextension==6.2.0 --quiet #For Good Dashboards using Jupyter Lab"
   ]
  },
  {
   "cell_type": "code",
   "execution_count": 6,
   "id": "80e4b885-1eef-4099-a6f6-60909f724d4c",
   "metadata": {},
   "outputs": [
    {
     "data": {
      "application/vnd.jupyter.widget-view+json": {
       "model_id": "c1e0772fc3b8420fb278d1bca2d05768",
       "version_major": 2,
       "version_minor": 0
      },
      "text/plain": [
       "Tab(children=(HTML(value='<div class=\"jp-RenderedHTMLCommon jp-RenderedHTML jp-mod-trusted jp-OutputArea-outpu…"
      ]
     },
     "metadata": {},
     "output_type": "display_data"
    }
   ],
   "source": [
    "cluster = LocalCluster()\n",
    "cluster"
   ]
  },
  {
   "cell_type": "code",
   "execution_count": null,
   "id": "ce12e8d2-b91c-4628-8549-26515a9d7600",
   "metadata": {},
   "outputs": [],
   "source": [
    "#help(cluster)"
   ]
  },
  {
   "cell_type": "code",
   "execution_count": null,
   "id": "8f8e82d3-ec2d-4b0c-bcb6-099b69de9e35",
   "metadata": {},
   "outputs": [],
   "source": []
  },
  {
   "cell_type": "code",
   "execution_count": 7,
   "id": "4b277446-a299-432f-ac7a-53d37c85df2b",
   "metadata": {},
   "outputs": [],
   "source": [
    "client = Client(cluster)"
   ]
  },
  {
   "cell_type": "code",
   "execution_count": null,
   "id": "edc7ee14-f528-43de-8c59-3593a52471c2",
   "metadata": {},
   "outputs": [],
   "source": [
    "start = time.time()\n",
    "def convert_and_filter(positions,transformer, lat_min, lat_max, lon_min, lon_max, use_multithreading=True, n_workers=8):\n",
    "   \n",
    "    # Create a Dask bag from the positions\n",
    "    tasks = db.from_sequence(positions)\n",
    "\n",
    "    # Map the conversion function to each position\n",
    "    lla_positions = tasks.map(lambda pos: convert_to_lla_single(pos, transformer))\n",
    "\n",
    "    # Filter the results\n",
    "    filtered_positions = lla_positions.filter(lambda pos: lat_min <= pos[3] <= lat_max and lon_min <= pos[2] <= lon_max)\n",
    "\n",
    "    # Compute the filtered positions\n",
    "    results = filtered_positions.compute()\n",
    "\n",
    "    # Close the Dask client\n",
    "    \n",
    "\n",
    "    return results\n",
    "\n",
    "lat_min, lat_max = -1001,1000\n",
    "lon_min, lon_max = -1000,1000  \n",
    "lla_positions_filtered_mt = convert_and_filter(positions, lat_min, lat_max, lon_min, lon_max, n_workers=8)\n",
    "end = time.time()\n",
    "print(end-start)"
   ]
  },
  {
   "cell_type": "code",
   "execution_count": null,
   "id": "281b38a7-ac98-4227-9c2b-32c66fb2f51b",
   "metadata": {},
   "outputs": [],
   "source": [
    "client.close()\n",
    "cluster.close()"
   ]
  },
  {
   "cell_type": "code",
   "execution_count": null,
   "id": "ef0a41db-d47d-42ba-a8ab-c270537b9ab2",
   "metadata": {},
   "outputs": [],
   "source": []
  },
  {
   "cell_type": "code",
   "execution_count": null,
   "id": "c14c0bd9-0216-4c12-be0a-7c761aa6c591",
   "metadata": {},
   "outputs": [],
   "source": []
  },
  {
   "cell_type": "code",
   "execution_count": null,
   "id": "82e0fa7b-3b5e-4b73-a8f5-a9b6d34289f8",
   "metadata": {},
   "outputs": [],
   "source": []
  },
  {
   "cell_type": "code",
   "execution_count": null,
   "id": "af5489d7-739b-4b17-9520-5d2f160b36db",
   "metadata": {},
   "outputs": [],
   "source": []
  }
 ],
 "metadata": {
  "kernelspec": {
   "display_name": "Python 3 (ipykernel)",
   "language": "python",
   "name": "python3"
  },
  "language_info": {
   "codemirror_mode": {
    "name": "ipython",
    "version": 3
   },
   "file_extension": ".py",
   "mimetype": "text/x-python",
   "name": "python",
   "nbconvert_exporter": "python",
   "pygments_lexer": "ipython3",
   "version": "3.10.9"
  }
 },
 "nbformat": 4,
 "nbformat_minor": 5
}
